{
  "paragraphs": [
    {
      "text": "from __future__ import division\nfrom itertools import izip, count\nimport matplotlib.pyplot as plt\nfrom numpy import linspace, loadtxt, ones, convolve\nimport numpy as np\nimport pandas as pd\nimport collections\nfrom random import randint\nfrom matplotlib import style\nstyle.use(\u0027fivethirtyeight\u0027)\n%matplotlib inline",
      "user": "nbuser",
      "dateUpdated": "Apr 5, 2019 5:48:53 PM",
      "config": {
        "colWidth": 12.0,
        "enabled": true,
        "results": {},
        "editorSetting": {
          "language": "scala"
        },
        "editorMode": "ace/mode/scala"
      },
      "settings": {
        "params": {},
        "forms": {}
      },
      "apps": [],
      "jobName": "paragraph_1554500801387_735094336",
      "id": "20190405-174641_1453215925",
      "dateCreated": "Apr 5, 2019 5:46:41 PM",
      "status": "READY",
      "progressUpdateIntervalMs": 500
    },
    {
      "text": "text \u003d sc.textFile(\"sunspots.txt\")",
      "user": "nbuser",
      "dateUpdated": "Apr 5, 2019 6:20:37 PM",
      "config": {
        "colWidth": 12.0,
        "enabled": true,
        "results": {},
        "editorSetting": {
          "language": "scala"
        },
        "editorMode": "ace/mode/scala"
      },
      "settings": {
        "params": {},
        "forms": {}
      },
      "results": {
        "code": "SUCCESS",
        "msg": []
      },
      "apps": [],
      "jobName": "paragraph_1554502232515_1185074285",
      "id": "20190405-181032_525518026",
      "dateCreated": "Apr 5, 2019 6:10:32 PM",
      "dateStarted": "Apr 5, 2019 6:20:37 PM",
      "dateFinished": "Apr 5, 2019 6:20:37 PM",
      "status": "FINISHED",
      "progressUpdateIntervalMs": 500
    },
    {
      "text": "filedf \u003d text.map(lambda x : x.split(\"\\t\"))\n",
      "user": "nbuser",
      "dateUpdated": "Apr 5, 2019 6:38:35 PM",
      "config": {
        "colWidth": 12.0,
        "enabled": true,
        "results": {},
        "editorSetting": {
          "language": "scala"
        },
        "editorMode": "ace/mode/scala"
      },
      "settings": {
        "params": {},
        "forms": {}
      },
      "results": {
        "code": "SUCCESS",
        "msg": []
      },
      "apps": [],
      "jobName": "paragraph_1554502837046_1466796968",
      "id": "20190405-182037_1247323765",
      "dateCreated": "Apr 5, 2019 6:20:37 PM",
      "dateStarted": "Apr 5, 2019 6:38:35 PM",
      "dateFinished": "Apr 5, 2019 6:38:35 PM",
      "status": "FINISHED",
      "progressUpdateIntervalMs": 500
    },
    {
      "text": "df \u003d spark.createDataFrame(filedf).toDF(\"Months\",\"sunspots\")\ndf \u003d df.withColumn(\"Months\",df[\"Months\"].cast(IntegerType()))\ndf \u003d df.withColumn(\"sunspots\",df[\"sunspots\"].cast(IntegerType()))\n\n",
      "user": "nbuser",
      "dateUpdated": "Apr 6, 2019 11:12:21 PM",
      "config": {
        "colWidth": 12.0,
        "enabled": true,
        "results": {},
        "editorSetting": {
          "language": "scala"
        },
        "editorMode": "ace/mode/scala"
      },
      "settings": {
        "params": {},
        "forms": {}
      },
      "results": {
        "code": "SUCCESS",
        "msg": []
      },
      "apps": [],
      "jobName": "paragraph_1554502910065_1163689811",
      "id": "20190405-182150_1242165947",
      "dateCreated": "Apr 5, 2019 6:21:50 PM",
      "dateStarted": "Apr 6, 2019 11:12:21 PM",
      "dateFinished": "Apr 6, 2019 11:12:26 PM",
      "status": "FINISHED",
      "progressUpdateIntervalMs": 500
    },
    {
      "text": "import pyspark.sql.functions as functions\ndf \u003d df.withColumn(\"new_col\",functions.lit(1))\nw \u003d Window.orderBy(\"Months\")\ndf \u003d df.withColumn(\"id\",functions.row_number().over(w))\n",
      "user": "nbuser",
      "dateUpdated": "Apr 6, 2019 11:12:32 PM",
      "config": {
        "colWidth": 12.0,
        "enabled": true,
        "results": {},
        "editorSetting": {
          "language": "scala"
        },
        "editorMode": "ace/mode/scala"
      },
      "settings": {
        "params": {},
        "forms": {}
      },
      "results": {
        "code": "SUCCESS",
        "msg": []
      },
      "apps": [],
      "jobName": "paragraph_1554520990005_859085303",
      "id": "20190405-232310_1099675959",
      "dateCreated": "Apr 5, 2019 11:23:10 PM",
      "dateStarted": "Apr 6, 2019 11:12:32 PM",
      "dateFinished": "Apr 6, 2019 11:12:32 PM",
      "status": "FINISHED",
      "progressUpdateIntervalMs": 500
    },
    {
      "text": "from pyspark.sql.window import Window\n\nwindowspec \u003d Window.partitionBy(df[\"new_col\"]).orderBy(df[\"Months\"]).rowsBetween(-1,1)\nmoving_avg \u003d functions.avg(\"sunspots\").over(windowspec)\ndf \u003d df.withColumn(\"moving_avg\",moving_avg)\ndf.show()",
      "user": "nbuser",
      "dateUpdated": "Apr 6, 2019 11:12:42 PM",
      "config": {
        "colWidth": 12.0,
        "enabled": true,
        "results": {},
        "editorSetting": {
          "language": "scala"
        },
        "editorMode": "ace/mode/scala"
      },
      "settings": {
        "params": {},
        "forms": {}
      },
      "results": {
        "code": "SUCCESS",
        "msg": [
          {
            "type": "TEXT",
            "data": "+------+--------+-------+---+------------------+\n|Months|sunspots|new_col| id|        moving_avg|\n+------+--------+-------+---+------------------+\n|     0|      58|      1|  1|              60.0|\n|     1|      62|      1|  2|63.333333333333336|\n|     2|      70|      1|  3|62.333333333333336|\n|     3|      55|      1|  4|              70.0|\n|     4|      85|      1|  5| 74.33333333333333|\n|     5|      83|      1|  6| 87.33333333333333|\n|     6|      94|      1|  7|              81.0|\n|     7|      66|      1|  8| 78.33333333333333|\n|     8|      75|      1|  9|              72.0|\n|     9|      75|      1| 10|102.66666666666667|\n|    10|     158|      1| 11|             106.0|\n|    11|      85|      1| 12|105.33333333333333|\n|    12|      73|      1| 13| 77.66666666666667|\n|    13|      75|      1| 14|              79.0|\n|    14|      89|      1| 15|              84.0|\n|    15|      88|      1| 16|              89.0|\n|    16|      90|      1| 17| 92.66666666666667|\n|    17|     100|      1| 18| 91.66666666666667|\n|    18|      85|      1| 19|              96.0|\n|    19|     103|      1| 20|              93.0|\n+------+--------+-------+---+------------------+\nonly showing top 20 rows\n\n"
          }
        ]
      },
      "apps": [],
      "jobName": "paragraph_1554521155677_-264752555",
      "id": "20190405-232555_1012862954",
      "dateCreated": "Apr 5, 2019 11:25:55 PM",
      "dateStarted": "Apr 6, 2019 11:12:42 PM",
      "dateFinished": "Apr 6, 2019 11:12:43 PM",
      "status": "FINISHED",
      "progressUpdateIntervalMs": 500
    },
    {
      "text": "df \u003d df.withColumn(\"residual\", (df.sunspots-df.moving_avg)*(df.sunspots-df.moving_avg))\nstd \u003d df.select(functions.sqrt(functions.sum(df.residual)/df.count()).alias(\"std\"))\ndf \u003ddf.crossJoin(std)\n",
      "user": "nbuser",
      "dateUpdated": "Apr 6, 2019 11:19:03 PM",
      "config": {
        "colWidth": 12.0,
        "enabled": true,
        "results": {},
        "editorSetting": {
          "language": "scala"
        },
        "editorMode": "ace/mode/scala"
      },
      "settings": {
        "params": {},
        "forms": {}
      },
      "results": {
        "code": "SUCCESS",
        "msg": []
      },
      "apps": [],
      "jobName": "paragraph_1554522655437_-574161834",
      "id": "20190405-235055_1606609716",
      "dateCreated": "Apr 5, 2019 11:50:55 PM",
      "dateStarted": "Apr 6, 2019 11:13:07 PM",
      "dateFinished": "Apr 6, 2019 11:13:07 PM",
      "status": "FINISHED",
      "progressUpdateIntervalMs": 500
    },
    {
      "text": "anamoly_df \u003d df.filter((df.sunspots\u003edf.moving_avg + df.std) | (df.sunspots\u003cdf.moving_avg-df.std) )",
      "user": "nbuser",
      "dateUpdated": "Apr 6, 2019 11:18:04 PM",
      "config": {
        "colWidth": 12.0,
        "enabled": true,
        "results": {},
        "editorSetting": {
          "language": "scala"
        },
        "editorMode": "ace/mode/scala"
      },
      "settings": {
        "params": {},
        "forms": {}
      },
      "results": {
        "code": "SUCCESS",
        "msg": []
      },
      "apps": [],
      "jobName": "paragraph_1554605658142_-342928187",
      "id": "20190406-225418_1513565438",
      "dateCreated": "Apr 6, 2019 10:54:18 PM",
      "dateStarted": "Apr 6, 2019 11:18:04 PM",
      "dateFinished": "Apr 6, 2019 11:18:04 PM",
      "status": "FINISHED",
      "progressUpdateIntervalMs": 500
    },
    {
      "text": "id_anamoly_list \u003d [int(row.Months) for row in anamoly_df.collect()]\nsunspots_anamoly_list\u003d[int(row.sunspots) for row in anamoly_df.collect()]\nsunspots_list \u003d [int(row.sunspots) for row in df.collect()]\nid_list \u003d [int(row.Months) for row in df.collect()]\n\n",
      "user": "nbuser",
      "dateUpdated": "Apr 7, 2019 12:34:40 AM",
      "config": {
        "colWidth": 12.0,
        "enabled": true,
        "results": {},
        "editorSetting": {
          "language": "scala"
        },
        "editorMode": "ace/mode/scala"
      },
      "settings": {
        "params": {},
        "forms": {}
      },
      "results": {
        "code": "SUCCESS",
        "msg": []
      },
      "apps": [],
      "jobName": "paragraph_1554607112522_1446224765",
      "id": "20190406-231832_842434954",
      "dateCreated": "Apr 6, 2019 11:18:32 PM",
      "dateStarted": "Apr 7, 2019 12:34:40 AM",
      "dateFinished": "Apr 7, 2019 12:34:44 AM",
      "status": "FINISHED",
      "progressUpdateIntervalMs": 500
    },
    {
      "text": "id_list \u003d [int(row.id) for row in anamoly_df.collect()]",
      "user": "nbuser",
      "dateUpdated": "Apr 6, 2019 11:42:55 PM",
      "config": {
        "colWidth": 12.0,
        "enabled": true,
        "results": {},
        "editorSetting": {
          "language": "scala"
        },
        "editorMode": "ace/mode/scala"
      },
      "settings": {
        "params": {},
        "forms": {}
      },
      "results": {
        "code": "SUCCESS",
        "msg": []
      },
      "apps": [],
      "jobName": "paragraph_1554607434974_-1444921845",
      "id": "20190406-232354_1489460584",
      "dateCreated": "Apr 6, 2019 11:23:54 PM",
      "dateStarted": "Apr 6, 2019 11:42:55 PM",
      "dateFinished": "Apr 6, 2019 11:43:06 PM",
      "status": "FINISHED",
      "progressUpdateIntervalMs": 500
    },
    {
      "text": "df.show()",
      "user": "nbuser",
      "dateUpdated": "Apr 7, 2019 11:11:32 AM",
      "config": {
        "colWidth": 12.0,
        "enabled": true,
        "results": {},
        "editorSetting": {
          "language": "scala"
        },
        "editorMode": "ace/mode/scala"
      },
      "settings": {
        "params": {},
        "forms": {}
      },
      "results": {
        "code": "SUCCESS",
        "msg": [
          {
            "type": "TEXT",
            "data": "+------+--------+-------+---+------------------+------------------+-----------------+\n|Months|sunspots|new_col| id|        moving_avg|          residual|              std|\n+------+--------+-------+---+------------------+------------------+-----------------+\n|     0|      58|      1|  1|              60.0|               4.0|9.315345225061256|\n|     1|      62|      1|  2|63.333333333333336|1.7777777777777841|9.315345225061256|\n|     2|      70|      1|  3|62.333333333333336| 58.77777777777774|9.315345225061256|\n|     3|      55|      1|  4|              70.0|             225.0|9.315345225061256|\n|     4|      85|      1|  5| 74.33333333333333|113.77777777777789|9.315345225061256|\n|     5|      83|      1|  6| 87.33333333333333|18.777777777777736|9.315345225061256|\n|     6|      94|      1|  7|              81.0|             169.0|9.315345225061256|\n|     7|      66|      1|  8| 78.33333333333333|  152.111111111111|9.315345225061256|\n|     8|      75|      1|  9|              72.0|               9.0|9.315345225061256|\n|     9|      75|      1| 10|102.66666666666667| 765.4444444444447|9.315345225061256|\n|    10|     158|      1| 11|             106.0|            2704.0|9.315345225061256|\n|    11|      85|      1| 12|105.33333333333333|413.44444444444423|9.315345225061256|\n|    12|      73|      1| 13| 77.66666666666667| 21.77777777777782|9.315345225061256|\n|    13|      75|      1| 14|              79.0|              16.0|9.315345225061256|\n|    14|      89|      1| 15|              84.0|              25.0|9.315345225061256|\n|    15|      88|      1| 16|              89.0|               1.0|9.315345225061256|\n|    16|      90|      1| 17| 92.66666666666667|7.1111111111111365|9.315345225061256|\n|    17|     100|      1| 18| 91.66666666666667| 69.44444444444437|9.315345225061256|\n|    18|      85|      1| 19|              96.0|             121.0|9.315345225061256|\n|    19|     103|      1| 20|              93.0|             100.0|9.315345225061256|\n+------+--------+-------+---+------------------+------------------+-----------------+\nonly showing top 20 rows\n\n"
          }
        ]
      },
      "apps": [],
      "jobName": "paragraph_1554608593906_1184277518",
      "id": "20190406-234313_1346157882",
      "dateCreated": "Apr 6, 2019 11:43:13 PM",
      "dateStarted": "Apr 7, 2019 11:11:32 AM",
      "dateFinished": "Apr 7, 2019 11:11:40 AM",
      "status": "FINISHED",
      "progressUpdateIntervalMs": 500
    },
    {
      "user": "nbuser",
      "config": {},
      "settings": {
        "params": {},
        "forms": {}
      },
      "apps": [],
      "jobName": "paragraph_1554649892496_189197419",
      "id": "20190407-111132_319560008",
      "dateCreated": "Apr 7, 2019 11:11:32 AM",
      "status": "READY",
      "progressUpdateIntervalMs": 500
    }
  ],
  "name": "BigdataQ1",
  "id": "2E94QKKQY",
  "angularObjects": {
    "2E6QJ9ZEB:shared_process": [],
    "2E9UGZAUZ:shared_process": [],
    "2E88HWXFA:shared_process": [],
    "2E9JD6KGD:shared_process": [],
    "2E9C7V165:shared_process": [],
    "2E6NZA3BM:shared_process": [],
    "2E7J7GQU9:shared_process": [],
    "2E73K9N49:shared_process": [],
    "2E8SDNH7Y:shared_process": [],
    "2E6JNSWUS:shared_process": [],
    "2E8ZQSC8D:shared_process": [],
    "2E9SREC1U:shared_process": [],
    "2E6ZTTPRZ:shared_process": [],
    "2EA2B7XT4:shared_process": [],
    "2E7F3AJVS:shared_process": [],
    "2E9M5DZRC:shared_process": [],
    "2E8SV4ZA4:shared_process": [],
    "2E7D4EFP7:shared_process": [],
    "2E9W5D16X:shared_process": []
  },
  "config": {},
  "info": {}
}