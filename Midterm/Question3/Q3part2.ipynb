{
  "paragraphs": [
    {
      "text": "sc",
      "dateUpdated": "Apr 4, 2019 3:44:06 PM",
      "config": {
        "colWidth": 12.0,
        "editorMode": "ace/mode/scala",
        "results": {},
        "enabled": true,
        "editorSetting": {
          "language": "scala"
        }
      },
      "settings": {
        "params": {},
        "forms": {}
      },
      "results": {
        "code": "SUCCESS",
        "msg": [
          {
            "type": "TEXT",
            "data": "\u003cSparkContext master\u003dyarn-client appName\u003dZeppelin\u003e\n"
          }
        ]
      },
      "apps": [],
      "jobName": "paragraph_1554407046693_-800869483",
      "id": "20190403-143348_1804322491",
      "dateCreated": "Apr 4, 2019 3:44:06 PM",
      "status": "READY",
      "errorMessage": "",
      "progressUpdateIntervalMs": 500
    },
    {
      "text": "sampleJson \u003d spark.read.option(\"multiLine\",\"true\").option(\"mode\",\"PERMISSIVE\").json(\"BigData.json\")\nsampleJson.printSchema()",
      "user": "nbuser",
      "dateUpdated": "Apr 4, 2019 3:44:26 PM",
      "config": {
        "colWidth": 12.0,
        "editorMode": "ace/mode/python",
        "results": {},
        "enabled": true,
        "editorSetting": {
          "language": "python"
        }
      },
      "settings": {
        "params": {},
        "forms": {}
      },
      "results": {
        "code": "SUCCESS",
        "msg": [
          {
            "type": "TEXT",
            "data": "root\n |-- address: string (nullable \u003d true)\n |-- attributes: struct (nullable \u003d true)\n |    |-- BikeParking: string (nullable \u003d true)\n |    |-- BusinessAcceptsBitcoin: string (nullable \u003d true)\n |    |-- BusinessAcceptsCreditCards: string (nullable \u003d true)\n |    |-- BusinessParking: struct (nullable \u003d true)\n |    |    |-- garage: string (nullable \u003d true)\n |    |    |-- lot: string (nullable \u003d true)\n |    |    |-- street: string (nullable \u003d true)\n |    |    |-- valet: string (nullable \u003d true)\n |    |    |-- validated: string (nullable \u003d true)\n |    |-- DogsAllowed: string (nullable \u003d true)\n |    |-- RestaurantsPriceRange2: long (nullable \u003d true)\n |    |-- WheelchairAccessible: string (nullable \u003d true)\n |-- business_id: string (nullable \u003d true)\n |-- categories: array (nullable \u003d true)\n |    |-- element: string (containsNull \u003d true)\n |-- city: string (nullable \u003d true)\n |-- hours: array (nullable \u003d true)\n |    |-- element: string (containsNull \u003d true)\n |-- is_open: long (nullable \u003d true)\n |-- latitude: double (nullable \u003d true)\n |-- longitude: double (nullable \u003d true)\n |-- name: string (nullable \u003d true)\n |-- neighborhood: string (nullable \u003d true)\n |-- postal_code: string (nullable \u003d true)\n |-- review_count: long (nullable \u003d true)\n |-- stars: double (nullable \u003d true)\n |-- state: string (nullable \u003d true)\n |-- type: string (nullable \u003d true)\n\n"
          }
        ]
      },
      "apps": [],
      "jobName": "paragraph_1554407046694_-799715236",
      "id": "20190403-143358_1013290524",
      "dateCreated": "Apr 4, 2019 3:44:06 PM",
      "dateStarted": "Apr 4, 2019 3:44:26 PM",
      "dateFinished": "Apr 4, 2019 3:44:32 PM",
      "status": "FINISHED",
      "progressUpdateIntervalMs": 500
    },
    {
      "text": "sampleJson.createOrReplaceTempView(\"sample\")",
      "user": "nbuser",
      "dateUpdated": "Apr 4, 2019 3:44:44 PM",
      "config": {
        "colWidth": 12.0,
        "editorMode": "ace/mode/python",
        "results": {},
        "enabled": true,
        "editorSetting": {
          "language": "python"
        }
      },
      "settings": {
        "params": {},
        "forms": {}
      },
      "results": {
        "code": "SUCCESS",
        "msg": []
      },
      "apps": [],
      "jobName": "paragraph_1554407046694_-799715236",
      "id": "20190403-143428_1786809700",
      "dateCreated": "Apr 4, 2019 3:44:06 PM",
      "dateStarted": "Apr 4, 2019 3:44:44 PM",
      "dateFinished": "Apr 4, 2019 3:44:44 PM",
      "status": "FINISHED",
      "progressUpdateIntervalMs": 500
    },
    {
      "text": "state \u003d spark.sql(\"Select state from sample where state \u003d \u0027AZ\u0027\").first()\ncategories \u003d spark.sql(\"select categories from sample\").first()\ncheckNightlife \u003d sc.parallelize(categories[0]).filter(lambda x : \"Nightlife\" in x).count()\n\n\n\n\n\n",
      "user": "nbuser",
      "dateUpdated": "Apr 4, 2019 4:02:09 PM",
      "config": {
        "colWidth": 12.0,
        "editorMode": "ace/mode/python",
        "results": {},
        "enabled": true,
        "editorSetting": {
          "language": "python"
        }
      },
      "settings": {
        "params": {},
        "forms": {}
      },
      "results": {
        "code": "SUCCESS",
        "msg": []
      },
      "apps": [],
      "jobName": "paragraph_1554407046694_-799715236",
      "id": "20190403-143713_586553963",
      "dateCreated": "Apr 4, 2019 3:44:06 PM",
      "dateStarted": "Apr 4, 2019 4:01:42 PM",
      "dateFinished": "Apr 4, 2019 4:01:49 PM",
      "status": "FINISHED",
      "progressUpdateIntervalMs": 500
    },
    {
      "text": "attributes \u003d spark.sql(\"select attributes from sample\").rdd\nbusinessParking \u003d attributes.map(lambda row : row[\"attributes\"][\"BusinessParking\"][\"garage\"]).collect()[0];\n",
      "user": "nbuser",
      "dateUpdated": "Apr 4, 2019 4:01:35 PM",
      "config": {
        "colWidth": 12.0,
        "editorMode": "ace/mode/scala",
        "results": {},
        "enabled": true,
        "editorSetting": {
          "language": "scala"
        }
      },
      "settings": {
        "params": {},
        "forms": {}
      },
      "results": {
        "code": "SUCCESS",
        "msg": []
      },
      "apps": [],
      "jobName": "paragraph_1554407046694_-799715236",
      "id": "20190404-114607_1847700908",
      "dateCreated": "Apr 4, 2019 3:44:06 PM",
      "dateStarted": "Apr 4, 2019 3:59:30 PM",
      "dateFinished": "Apr 4, 2019 3:59:35 PM",
      "status": "FINISHED",
      "progressUpdateIntervalMs": 500
    },
    {
      "text": "if state.state \u003d\u003d \"AZ\"and checkNightlife\u003e0 and businessParking \u003d\u003d \"True\":\n  print(\"true\")\nelse:\n  print(\"false\")\n  ",
      "user": "nbuser",
      "dateUpdated": "Apr 4, 2019 4:02:59 PM",
      "config": {
        "colWidth": 12.0,
        "editorMode": "ace/mode/python",
        "results": {},
        "enabled": true,
        "editorSetting": {
          "language": "python"
        }
      },
      "settings": {
        "params": {},
        "forms": {}
      },
      "results": {
        "code": "SUCCESS",
        "msg": [
          {
            "type": "TEXT",
            "data": "false\n"
          }
        ]
      },
      "apps": [],
      "jobName": "paragraph_1554407046695_-800099985",
      "id": "20190403-143857_331482004",
      "dateCreated": "Apr 4, 2019 3:44:06 PM",
      "dateStarted": "Apr 4, 2019 4:02:59 PM",
      "dateFinished": "Apr 4, 2019 4:02:59 PM",
      "status": "FINISHED",
      "progressUpdateIntervalMs": 500
    },
    {
      "dateUpdated": "Apr 4, 2019 3:44:06 PM",
      "config": {},
      "settings": {
        "params": {},
        "forms": {}
      },
      "apps": [],
      "jobName": "paragraph_1554407046695_-800099985",
      "id": "20190403-144945_774373748",
      "dateCreated": "Apr 4, 2019 3:44:06 PM",
      "status": "READY",
      "errorMessage": "",
      "progressUpdateIntervalMs": 500
    }
  ],
  "name": "ModifiedJSONQ4",
  "id": "2E87NSTXK",
  "angularObjects": {
    "2E6QJ9ZEB:shared_process": [],
    "2E9UGZAUZ:shared_process": [],
    "2E88HWXFA:shared_process": [],
    "2E9JD6KGD:shared_process": [],
    "2E9C7V165:shared_process": [],
    "2E6NZA3BM:shared_process": [],
    "2E7J7GQU9:shared_process": [],
    "2E73K9N49:shared_process": [],
    "2E8SDNH7Y:shared_process": [],
    "2E6JNSWUS:shared_process": [],
    "2E8ZQSC8D:shared_process": [],
    "2E9SREC1U:shared_process": [],
    "2E6ZTTPRZ:shared_process": [],
    "2EA2B7XT4:shared_process": [],
    "2E7F3AJVS:shared_process": [],
    "2E9M5DZRC:shared_process": [],
    "2E8SV4ZA4:shared_process": [],
    "2E7D4EFP7:shared_process": [],
    "2E9W5D16X:shared_process": []
  },
  "config": {},
  "info": {}
}