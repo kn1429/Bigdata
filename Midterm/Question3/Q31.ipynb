{
  "paragraphs": [
    {
      "text": "jsonfile \u003d sc.textFile(\"BigData.json\")",
      "user": "nbuser",
      "dateUpdated": "Apr 4, 2019 4:06:28 PM",
      "config": {
        "colWidth": 12.0,
        "enabled": true,
        "results": {},
        "editorSetting": {
          "language": "scala"
        },
        "editorMode": "ace/mode/scala"
      },
      "settings": {
        "params": {},
        "forms": {}
      },
      "results": {
        "code": "SUCCESS",
        "msg": []
      },
      "apps": [],
      "jobName": "paragraph_1554314536523_-376024030",
      "id": "20190403-140216_525717965",
      "dateCreated": "Apr 3, 2019 2:02:16 PM",
      "dateStarted": "Apr 4, 2019 4:06:28 PM",
      "dateFinished": "Apr 4, 2019 4:06:28 PM",
      "status": "FINISHED",
      "progressUpdateIntervalMs": 500
    },
    {
      "text": "jsonfile.collect()",
      "user": "nbuser",
      "dateUpdated": "Apr 4, 2019 4:09:57 PM",
      "config": {
        "colWidth": 12.0,
        "enabled": true,
        "results": {},
        "editorSetting": {
          "language": "scala"
        },
        "editorMode": "ace/mode/scala"
      },
      "settings": {
        "params": {},
        "forms": {}
      },
      "results": {
        "code": "SUCCESS",
        "msg": [
          {
            "type": "TEXT",
            "data": "[u\u0027{\u0027, u\u0027\\t\"business_id\": \"0DI8Dt2PJp07XkVvIElIcQ\",\u0027, u\u0027\\t\"name\": \"Innovative Vapors\",\u0027, u\u0027\\t\"neighborhood\": \"\",\u0027, u\u0027\\t\"address\": \"227 E Baseline Rd, Ste J2\",\u0027, u\u0027\\t\"city\": \"Tempe\",\u0027, u\u0027\\t\"state\": \"AZ\",\u0027, u\u0027\\t\"postal_code\": \"85283\",\u0027, u\u0027\\t\"latitude\": 33.3782141,\u0027, u\u0027\\t\"longitude\": -111.936102,\u0027, u\u0027\\t\"stars\": 4.5,\u0027, u\u0027\\t\"review_count\": 17,\u0027, u\u0027\\t\"is_open\": 0,\u0027, u\u0027\\t\"attributes\": {\u0027, u\u0027\\t\\t\"BikeParking\": \"True\",\u0027, u\u0027\\t\\t\"BusinessAcceptsBitcoin\": \"False\",\u0027, u\u0027\\t\\t\"BusinessAcceptsCreditCards\": \"True\",\u0027, u\u0027\\t\\t\"BusinessParking\": {\u0027, u\u0027\\t\\t\\t\"garage\": \"False\",\u0027, u\u0027\\t\\t\\t\"street\": \"False\",\u0027, u\u0027\\t\\t\\t\"validated\": \"False\",\u0027, u\u0027\\t\\t\\t\"lot\": \"TRUE\",\u0027, u\u0027\\t\\t\\t\"valet\": \"False\"\u0027, u\u0027\\t\\t},\u0027, u\u0027\\t\\t\"DogsAllowed\": \"FALSE\",\u0027, u\u0027\\t\\t\"RestaurantsPriceRange2\": 2,\u0027, u\u0027\\t\\t\"WheelchairAccessible\": \"True\"\u0027, u\u0027\\t},\u0027, u\u0027\\t\"categories\": [\u0027, u\u0027\\t\\t\"Tobacco Shops\",\u0027, u\u0027\\t\\t\"Nightlife\",\u0027, u\u0027\\t\\t\"Vape Shops\",\u0027, u\u0027\\t\\t\"Shopping\"\u0027, u\u0027\\t],\u0027, u\u0027\\t\"hours\": [\u0027, u\u0027\\t\\t\"Monday 11:0-21:0\",\u0027, u\u0027\\t\\t\"Tuesday 11:0-21:0\",\u0027, u\u0027\\t\\t\"Wednesday 11:0-21:0\",\u0027, u\u0027\\t\\t\"Thursday 11:0-21:0\",\u0027, u\u0027\\t\\t\"Friday 11:0-22:0\",\u0027, u\u0027\\t\\t\"Saturday 10:0-22:0\",\u0027, u\u0027\\t\\t\"Sunday 11:0-18:0\"\u0027, u\u0027\\t],\u0027, u\u0027\\t\"type\": \"business\"\u0027, u\u0027}\u0027]\n"
          }
        ]
      },
      "apps": [],
      "jobName": "paragraph_1554408388969_2071023835",
      "id": "20190404-160628_683051076",
      "dateCreated": "Apr 4, 2019 4:06:28 PM",
      "dateStarted": "Apr 4, 2019 4:09:58 PM",
      "dateFinished": "Apr 4, 2019 4:10:02 PM",
      "status": "FINISHED",
      "progressUpdateIntervalMs": 500
    },
    {
      "text": "subjson \u003d jsonfile.map(lambda x : x.split(\",\"))",
      "user": "nbuser",
      "dateUpdated": "Apr 4, 2019 4:16:59 PM",
      "config": {
        "colWidth": 12.0,
        "enabled": true,
        "results": {},
        "editorSetting": {
          "language": "scala"
        },
        "editorMode": "ace/mode/scala"
      },
      "settings": {
        "params": {},
        "forms": {}
      },
      "results": {
        "code": "SUCCESS",
        "msg": []
      },
      "apps": [],
      "jobName": "paragraph_1554408399852_1844437381",
      "id": "20190404-160639_1883765389",
      "dateCreated": "Apr 4, 2019 4:06:39 PM",
      "dateStarted": "Apr 4, 2019 4:16:59 PM",
      "dateFinished": "Apr 4, 2019 4:16:59 PM",
      "status": "FINISHED",
      "progressUpdateIntervalMs": 500
    },
    {
      "text": "subjson.collect()",
      "user": "nbuser",
      "dateUpdated": "Apr 4, 2019 4:17:19 PM",
      "config": {
        "colWidth": 12.0,
        "enabled": true,
        "results": {},
        "editorSetting": {
          "language": "scala"
        },
        "editorMode": "ace/mode/scala"
      },
      "settings": {
        "params": {},
        "forms": {}
      },
      "results": {
        "code": "SUCCESS",
        "msg": [
          {
            "type": "TEXT",
            "data": "[[u\u0027{\u0027], [u\u0027\\t\"business_id\": \"0DI8Dt2PJp07XkVvIElIcQ\"\u0027, u\u0027\u0027], [u\u0027\\t\"name\": \"Innovative Vapors\"\u0027, u\u0027\u0027], [u\u0027\\t\"neighborhood\": \"\"\u0027, u\u0027\u0027], [u\u0027\\t\"address\": \"227 E Baseline Rd\u0027, u\u0027 Ste J2\"\u0027, u\u0027\u0027], [u\u0027\\t\"city\": \"Tempe\"\u0027, u\u0027\u0027], [u\u0027\\t\"state\": \"AZ\"\u0027, u\u0027\u0027], [u\u0027\\t\"postal_code\": \"85283\"\u0027, u\u0027\u0027], [u\u0027\\t\"latitude\": 33.3782141\u0027, u\u0027\u0027], [u\u0027\\t\"longitude\": -111.936102\u0027, u\u0027\u0027], [u\u0027\\t\"stars\": 4.5\u0027, u\u0027\u0027], [u\u0027\\t\"review_count\": 17\u0027, u\u0027\u0027], [u\u0027\\t\"is_open\": 0\u0027, u\u0027\u0027], [u\u0027\\t\"attributes\": {\u0027], [u\u0027\\t\\t\"BikeParking\": \"True\"\u0027, u\u0027\u0027], [u\u0027\\t\\t\"BusinessAcceptsBitcoin\": \"False\"\u0027, u\u0027\u0027], [u\u0027\\t\\t\"BusinessAcceptsCreditCards\": \"True\"\u0027, u\u0027\u0027], [u\u0027\\t\\t\"BusinessParking\": {\u0027], [u\u0027\\t\\t\\t\"garage\": \"False\"\u0027, u\u0027\u0027], [u\u0027\\t\\t\\t\"street\": \"False\"\u0027, u\u0027\u0027], [u\u0027\\t\\t\\t\"validated\": \"False\"\u0027, u\u0027\u0027], [u\u0027\\t\\t\\t\"lot\": \"TRUE\"\u0027, u\u0027\u0027], [u\u0027\\t\\t\\t\"valet\": \"False\"\u0027], [u\u0027\\t\\t}\u0027, u\u0027\u0027], [u\u0027\\t\\t\"DogsAllowed\": \"FALSE\"\u0027, u\u0027\u0027], [u\u0027\\t\\t\"RestaurantsPriceRange2\": 2\u0027, u\u0027\u0027], [u\u0027\\t\\t\"WheelchairAccessible\": \"True\"\u0027], [u\u0027\\t}\u0027, u\u0027\u0027], [u\u0027\\t\"categories\": [\u0027], [u\u0027\\t\\t\"Tobacco Shops\"\u0027, u\u0027\u0027], [u\u0027\\t\\t\"Nightlife\"\u0027, u\u0027\u0027], [u\u0027\\t\\t\"Vape Shops\"\u0027, u\u0027\u0027], [u\u0027\\t\\t\"Shopping\"\u0027], [u\u0027\\t]\u0027, u\u0027\u0027], [u\u0027\\t\"hours\": [\u0027], [u\u0027\\t\\t\"Monday 11:0-21:0\"\u0027, u\u0027\u0027], [u\u0027\\t\\t\"Tuesday 11:0-21:0\"\u0027, u\u0027\u0027], [u\u0027\\t\\t\"Wednesday 11:0-21:0\"\u0027, u\u0027\u0027], [u\u0027\\t\\t\"Thursday 11:0-21:0\"\u0027, u\u0027\u0027], [u\u0027\\t\\t\"Friday 11:0-22:0\"\u0027, u\u0027\u0027], [u\u0027\\t\\t\"Saturday 10:0-22:0\"\u0027, u\u0027\u0027], [u\u0027\\t\\t\"Sunday 11:0-18:0\"\u0027], [u\u0027\\t]\u0027, u\u0027\u0027], [u\u0027\\t\"type\": \"business\"\u0027], [u\u0027}\u0027]]\n"
          }
        ]
      },
      "apps": [],
      "jobName": "paragraph_1554409019946_1701401090",
      "id": "20190404-161659_1298804221",
      "dateCreated": "Apr 4, 2019 4:16:59 PM",
      "dateStarted": "Apr 4, 2019 4:17:19 PM",
      "dateFinished": "Apr 4, 2019 4:17:24 PM",
      "status": "FINISHED",
      "progressUpdateIntervalMs": 500
    },
    {
      "user": "nbuser",
      "config": {},
      "settings": {
        "params": {},
        "forms": {}
      },
      "apps": [],
      "jobName": "paragraph_1554409030563_1774149281",
      "id": "20190404-161710_491821800",
      "dateCreated": "Apr 4, 2019 4:17:10 PM",
      "status": "READY",
      "progressUpdateIntervalMs": 500
    }
  ],
  "name": "~Trash/Bigdata",
  "id": "2E72UZDMT",
  "angularObjects": {
    "2E6QJ9ZEB:shared_process": [],
    "2E9UGZAUZ:shared_process": [],
    "2E88HWXFA:shared_process": [],
    "2E9JD6KGD:shared_process": [],
    "2E9C7V165:shared_process": [],
    "2E6NZA3BM:shared_process": [],
    "2E7J7GQU9:shared_process": [],
    "2E73K9N49:shared_process": [],
    "2E8SDNH7Y:shared_process": [],
    "2E6JNSWUS:shared_process": [],
    "2E8ZQSC8D:shared_process": [],
    "2E9SREC1U:shared_process": [],
    "2E6ZTTPRZ:shared_process": [],
    "2EA2B7XT4:shared_process": [],
    "2E7F3AJVS:shared_process": [],
    "2E9M5DZRC:shared_process": [],
    "2E8SV4ZA4:shared_process": [],
    "2E7D4EFP7:shared_process": [],
    "2E9W5D16X:shared_process": []
  },
  "config": {},
  "info": {}
}