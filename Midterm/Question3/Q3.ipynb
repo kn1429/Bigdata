{
  "paragraphs": [
    {
      "text": "sc",
      "user": "nbuser",
      "dateUpdated": "Apr 4, 2019 11:15:17 AM",
      "config": {
        "colWidth": 12.0,
        "enabled": true,
        "results": {},
        "editorSetting": {
          "language": "scala"
        },
        "editorMode": "ace/mode/scala"
      },
      "settings": {
        "params": {},
        "forms": {}
      },
      "results": {
        "code": "SUCCESS",
        "msg": [
          {
            "type": "TEXT",
            "data": "\u003cSparkContext master\u003dyarn-client appName\u003dZeppelin\u003e\n"
          }
        ]
      },
      "apps": [],
      "jobName": "paragraph_1554316428992_630207070",
      "id": "20190403-143348_1804322491",
      "dateCreated": "Apr 3, 2019 2:33:48 PM",
      "dateStarted": "Apr 4, 2019 11:15:17 AM",
      "dateFinished": "Apr 4, 2019 11:15:17 AM",
      "status": "FINISHED",
      "progressUpdateIntervalMs": 500
    },
    {
      "text": "sampleJson \u003d spark.read.option(\"multiLine\",\"true\").option(\"mode\",\"PERMISSIVE\").json(\"Big.json\")\nsampleJson.printSchema()",
      "user": "nbuser",
      "dateUpdated": "Apr 4, 2019 2:42:03 PM",
      "config": {
        "colWidth": 12.0,
        "enabled": true,
        "results": {},
        "editorSetting": {
          "language": "scala"
        },
        "editorMode": "ace/mode/scala"
      },
      "settings": {
        "params": {},
        "forms": {}
      },
      "results": {
        "code": "SUCCESS",
        "msg": [
          {
            "type": "TEXT",
            "data": "root\n |-- address: string (nullable \u003d true)\n |-- attributes: array (nullable \u003d true)\n |    |-- element: string (containsNull \u003d true)\n |-- business_id: string (nullable \u003d true)\n |-- categories: array (nullable \u003d true)\n |    |-- element: string (containsNull \u003d true)\n |-- city: string (nullable \u003d true)\n |-- hours: array (nullable \u003d true)\n |    |-- element: string (containsNull \u003d true)\n |-- is_open: long (nullable \u003d true)\n |-- latitude: double (nullable \u003d true)\n |-- longitude: double (nullable \u003d true)\n |-- name: string (nullable \u003d true)\n |-- neighborhood: string (nullable \u003d true)\n |-- postal_code: string (nullable \u003d true)\n |-- review_count: long (nullable \u003d true)\n |-- stars: double (nullable \u003d true)\n |-- state: string (nullable \u003d true)\n |-- type: string (nullable \u003d true)\n\n"
          }
        ]
      },
      "apps": [],
      "jobName": "paragraph_1554316438759_-1550164947",
      "id": "20190403-143358_1013290524",
      "dateCreated": "Apr 3, 2019 2:33:58 PM",
      "dateStarted": "Apr 4, 2019 2:42:03 PM",
      "dateFinished": "Apr 4, 2019 2:42:07 PM",
      "status": "FINISHED",
      "progressUpdateIntervalMs": 500
    },
    {
      "text": "sampleJson.createOrReplaceTempView(\"sample\")",
      "user": "nbuser",
      "dateUpdated": "Apr 4, 2019 2:31:45 PM",
      "config": {
        "colWidth": 12.0,
        "enabled": true,
        "results": {},
        "editorSetting": {
          "language": "scala"
        },
        "editorMode": "ace/mode/scala"
      },
      "settings": {
        "params": {},
        "forms": {}
      },
      "results": {
        "code": "SUCCESS",
        "msg": []
      },
      "apps": [],
      "jobName": "paragraph_1554316468809_1282233862",
      "id": "20190403-143428_1786809700",
      "dateCreated": "Apr 3, 2019 2:34:28 PM",
      "dateStarted": "Apr 4, 2019 2:31:45 PM",
      "dateFinished": "Apr 4, 2019 2:31:45 PM",
      "status": "FINISHED",
      "progressUpdateIntervalMs": 500
    },
    {
      "text": "state \u003d spark.sql(\"Select state from sample where state \u003d \u0027AZ\u0027\").first()\ncategories \u003d spark.sql(\"select categories from sample\").first()\ncheckNightlife \u003d sc.parallelize(categories[0]).filter(lambda x : \"Nightlife\" in x).count()\n\n\n\n\n",
      "user": "nbuser",
      "dateUpdated": "Apr 4, 2019 11:45:43 AM",
      "config": {
        "colWidth": 12.0,
        "enabled": true,
        "results": {},
        "editorSetting": {
          "language": "scala"
        },
        "editorMode": "ace/mode/scala"
      },
      "settings": {
        "params": {},
        "forms": {}
      },
      "results": {
        "code": "SUCCESS",
        "msg": []
      },
      "apps": [],
      "jobName": "paragraph_1554316633636_214368485",
      "id": "20190403-143713_586553963",
      "dateCreated": "Apr 3, 2019 2:37:13 PM",
      "dateStarted": "Apr 4, 2019 11:45:43 AM",
      "dateFinished": "Apr 4, 2019 11:45:44 AM",
      "status": "FINISHED",
      "progressUpdateIntervalMs": 500
    },
    {
      "text": "attributes \u003d spark.sql(\"select attributes from sample\").rdd\nbusinessParking \u003d attributes.flatMap(lambda row : row[\"attributes\"]) \\\n                            .filter(lambda col : \"BusinessParking\" in col)\n                        \n                            \n\n                        \n                        \n\n\n\n",
      "user": "nbuser",
      "dateUpdated": "Apr 4, 2019 3:10:09 PM",
      "config": {
        "colWidth": 12.0,
        "enabled": true,
        "results": {},
        "editorSetting": {
          "language": "scala"
        },
        "editorMode": "ace/mode/scala"
      },
      "settings": {
        "params": {},
        "forms": {}
      },
      "results": {
        "code": "SUCCESS",
        "msg": []
      },
      "apps": [],
      "jobName": "paragraph_1554392767289_-2089354007",
      "id": "20190404-114607_1847700908",
      "dateCreated": "Apr 4, 2019 11:46:07 AM",
      "dateStarted": "Apr 4, 2019 3:10:09 PM",
      "dateFinished": "Apr 4, 2019 3:10:09 PM",
      "status": "FINISHED",
      "progressUpdateIntervalMs": 500
    },
    {
      "text": "sub \u003d businessParking.map(lambda x : x.split(\"{\")[1]).flatMap(lambda y : y.split(\",\")).filter(lambda x : \"garage\" in x) \\\n                      .collect()",
      "user": "nbuser",
      "dateUpdated": "Apr 4, 2019 3:20:23 PM",
      "config": {
        "colWidth": 12.0,
        "enabled": true,
        "results": {},
        "editorSetting": {
          "language": "scala"
        },
        "editorMode": "ace/mode/scala"
      },
      "settings": {
        "params": {},
        "forms": {}
      },
      "results": {
        "code": "SUCCESS",
        "msg": []
      },
      "apps": [],
      "jobName": "paragraph_1554401805535_491837634",
      "id": "20190404-141645_859558475",
      "dateCreated": "Apr 4, 2019 2:16:45 PM",
      "dateStarted": "Apr 4, 2019 3:19:29 PM",
      "dateFinished": "Apr 4, 2019 3:19:29 PM",
      "status": "FINISHED",
      "progressUpdateIntervalMs": 500
    },
    {
      "text": "",
      "user": "nbuser",
      "dateUpdated": "Apr 4, 2019 3:20:45 PM",
      "config": {
        "colWidth": 12.0,
        "enabled": true,
        "results": {},
        "editorSetting": {
          "language": "scala"
        },
        "editorMode": "ace/mode/scala"
      },
      "settings": {
        "params": {},
        "forms": {}
      },
      "results": {
        "code": "SUCCESS",
        "msg": [
          {
            "type": "TEXT",
            "data": "[u\"\u0027garage\u0027: False\"]\n"
          }
        ]
      },
      "apps": [],
      "jobName": "paragraph_1554405147211_556811984",
      "id": "20190404-151227_1901098412",
      "dateCreated": "Apr 4, 2019 3:12:27 PM",
      "dateStarted": "Apr 4, 2019 3:19:32 PM",
      "dateFinished": "Apr 4, 2019 3:19:39 PM",
      "status": "FINISHED",
      "progressUpdateIntervalMs": 500
    },
    {
      "text": "if state.state \u003d\u003d \"AZ\"and checkNightlife\u003e0:\n  print(\"true\")\nelse:\n  print(\"kiran\")\n  ",
      "user": "nbuser",
      "dateUpdated": "Apr 4, 2019 11:43:09 AM",
      "config": {
        "colWidth": 12.0,
        "enabled": true,
        "results": {},
        "editorSetting": {
          "language": "scala"
        },
        "editorMode": "ace/mode/scala"
      },
      "settings": {
        "params": {},
        "forms": {}
      },
      "results": {
        "code": "SUCCESS",
        "msg": [
          {
            "type": "TEXT",
            "data": "true\n"
          }
        ]
      },
      "apps": [],
      "jobName": "paragraph_1554316737369_1675414945",
      "id": "20190403-143857_331482004",
      "dateCreated": "Apr 3, 2019 2:38:57 PM",
      "dateStarted": "Apr 4, 2019 11:42:37 AM",
      "dateFinished": "Apr 4, 2019 11:42:37 AM",
      "status": "FINISHED",
      "progressUpdateIntervalMs": 500
    },
    {
      "text": "print(state)",
      "user": "nbuser",
      "dateUpdated": "Apr 3, 2019 2:46:57 PM",
      "config": {
        "colWidth": 12.0,
        "enabled": true,
        "results": {},
        "editorSetting": {
          "language": "scala"
        },
        "editorMode": "ace/mode/scala"
      },
      "settings": {
        "params": {},
        "forms": {}
      },
      "results": {
        "code": "SUCCESS",
        "msg": [
          {
            "type": "TEXT",
            "data": "DataFrame[state: string]\n"
          }
        ]
      },
      "apps": [],
      "jobName": "paragraph_1554317086470_1246864847",
      "id": "20190403-144446_1257855437",
      "dateCreated": "Apr 3, 2019 2:44:46 PM",
      "dateStarted": "Apr 3, 2019 2:46:57 PM",
      "dateFinished": "Apr 3, 2019 2:46:57 PM",
      "status": "FINISHED",
      "progressUpdateIntervalMs": 500
    },
    {
      "text": "\ncategories \u003d spark.sql(\"select categories from sample\")\ntype(categories)",
      "user": "nbuser",
      "dateUpdated": "Apr 4, 2019 11:14:01 AM",
      "config": {
        "colWidth": 12.0,
        "enabled": true,
        "results": {},
        "editorSetting": {
          "language": "scala"
        },
        "editorMode": "ace/mode/scala"
      },
      "settings": {
        "params": {},
        "forms": {}
      },
      "results": {
        "code": "ERROR",
        "msg": [
          {
            "type": "TEXT",
            "data": "/share/apps/spark/spark-2.2.0-bin-hadoop2.6/python/pyspark/context.py:195: UserWarning: Support for Python 2.6 is deprecated as of Spark 2.0.0\n  warnings.warn(\"Support for Python 2.6 is deprecated as of Spark 2.0.0\")\n"
          },
          {
            "type": "TEXT",
            "data": "Traceback (most recent call last):\n  File \"/tmp/zeppelin_pyspark-8351542946847426463.py\", line 367, in \u003cmodule\u003e\n    raise Exception(traceback.format_exc())\nException: Traceback (most recent call last):\n  File \"/tmp/zeppelin_pyspark-8351542946847426463.py\", line 355, in \u003cmodule\u003e\n    exec(code, _zcUserQueryNameSpace)\n  File \"\u003cstdin\u003e\", line 1, in \u003cmodule\u003e\n  File \"/share/apps/spark/spark-2.2.0-bin-hadoop2.6/python/pyspark/sql/session.py\", line 556, in sql\n    return DataFrame(self._jsparkSession.sql(sqlQuery), self._wrapped)\n  File \"/share/apps/spark/spark-2.2.0-bin-hadoop2.6/python/lib/py4j-0.10.4-src.zip/py4j/java_gateway.py\", line 1133, in __call__\n    answer, self.gateway_client, self.target_id, self.name)\n  File \"/share/apps/spark/spark-2.2.0-bin-hadoop2.6/python/pyspark/sql/utils.py\", line 69, in deco\n    raise AnalysisException(s.split(\u0027: \u0027, 1)[1], stackTrace)\nAnalysisException: u\"cannot resolve \u0027`categories`\u0027 given input columns: [date, close, open, volume, index, low, high]; line 1 pos 7;\\n\u0027Project [\u0027categories]\\n+- SubqueryAlias sample\\n   +- CatalogRelation `default`.`sample`, org.apache.hadoop.hive.serde2.lazy.LazySimpleSerDe, [date#0, open#1, close#2, low#3, high#4, volume#5, index#6]\\n\"\n\n"
          }
        ]
      },
      "apps": [],
      "jobName": "paragraph_1554317217267_353678759",
      "id": "20190403-144657_1348606549",
      "dateCreated": "Apr 3, 2019 2:46:57 PM",
      "dateStarted": "Apr 4, 2019 11:14:01 AM",
      "dateFinished": "Apr 4, 2019 11:14:28 AM",
      "status": "ERROR",
      "progressUpdateIntervalMs": 500
    },
    {
      "user": "nbuser",
      "config": {},
      "settings": {
        "params": {},
        "forms": {}
      },
      "apps": [],
      "jobName": "paragraph_1554317308695_-95769253",
      "id": "20190403-144828_1588662624",
      "dateCreated": "Apr 3, 2019 2:48:28 PM",
      "status": "READY",
      "progressUpdateIntervalMs": 500
    },
    {
      "user": "nbuser",
      "config": {},
      "settings": {
        "params": {},
        "forms": {}
      },
      "apps": [],
      "jobName": "paragraph_1554317385075_82444464",
      "id": "20190403-144945_774373748",
      "dateCreated": "Apr 3, 2019 2:49:45 PM",
      "status": "READY",
      "progressUpdateIntervalMs": 500
    }
  ],
  "name": "BigDataJsonSql",
  "id": "2E8EM5AUC",
  "angularObjects": {
    "2E6QJ9ZEB:shared_process": [],
    "2E9UGZAUZ:shared_process": [],
    "2E88HWXFA:shared_process": [],
    "2E9JD6KGD:shared_process": [],
    "2E9C7V165:shared_process": [],
    "2E6NZA3BM:shared_process": [],
    "2E7J7GQU9:shared_process": [],
    "2E73K9N49:shared_process": [],
    "2E8SDNH7Y:shared_process": [],
    "2E6JNSWUS:shared_process": [],
    "2E8ZQSC8D:shared_process": [],
    "2E9SREC1U:shared_process": [],
    "2E6ZTTPRZ:shared_process": [],
    "2EA2B7XT4:shared_process": [],
    "2E7F3AJVS:shared_process": [],
    "2E9M5DZRC:shared_process": [],
    "2E8SV4ZA4:shared_process": [],
    "2E7D4EFP7:shared_process": [],
    "2E9W5D16X:shared_process": []
  },
  "config": {},
  "info": {}
}