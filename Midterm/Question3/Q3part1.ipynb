{
  "paragraphs": [
    {
      "text": "businessJson \u003d spark.read.option(\"multiLine\",\"true\").option(\"mode\",\"PERMISSIVE\").json(\"BigData.json\")",
      "user": "nbuser",
      "dateUpdated": "Apr 5, 2019 4:34:38 PM",
      "config": {
        "colWidth": 12.0,
        "enabled": true,
        "results": {},
        "editorSetting": {
          "language": "python"
        },
        "editorMode": "ace/mode/python"
      },
      "settings": {
        "params": {},
        "forms": {}
      },
      "results": {
        "code": "SUCCESS",
        "msg": []
      },
      "apps": [],
      "jobName": "paragraph_1554496273657_1615518077",
      "id": "20190405-163113_1479784880",
      "dateCreated": "Apr 5, 2019 4:31:13 PM",
      "dateStarted": "Apr 5, 2019 4:34:38 PM",
      "dateFinished": "Apr 5, 2019 4:34:38 PM",
      "status": "FINISHED",
      "progressUpdateIntervalMs": 500
    },
    {
      "text": "df \u003d businessJson.filter(businessJson.state \u003d\u003d \"AZ\")\nsubdf \u003d df.rdd.filter(lambda x: \"Nightlife\" in x[\"categories\"]).toDF()\nfinaldf \u003d subdf.filter(subdf.attributes.BusinessParking.garage \u003d\u003d \"True\")\nif finaldf.count()\u003e0:\n    print True\nelse:\n    print False\n\n",
      "user": "nbuser",
      "dateUpdated": "Apr 5, 2019 5:43:28 PM",
      "config": {
        "colWidth": 12.0,
        "enabled": true,
        "results": {},
        "editorSetting": {
          "language": "python"
        },
        "editorMode": "ace/mode/python"
      },
      "settings": {
        "params": {},
        "forms": {}
      },
      "results": {
        "code": "SUCCESS",
        "msg": [
          {
            "type": "TEXT",
            "data": "False\n"
          }
        ]
      },
      "apps": [],
      "jobName": "paragraph_1554496433573_-1639828687",
      "id": "20190405-163353_1044776598",
      "dateCreated": "Apr 5, 2019 4:33:53 PM",
      "dateStarted": "Apr 5, 2019 5:43:28 PM",
      "dateFinished": "Apr 5, 2019 5:43:28 PM",
      "status": "FINISHED",
      "progressUpdateIntervalMs": 500
    },
    {
      "user": "nbuser",
      "config": {},
      "settings": {
        "params": {},
        "forms": {}
      },
      "apps": [],
      "jobName": "paragraph_1554500560065_-828310655",
      "id": "20190405-174240_1486161326",
      "dateCreated": "Apr 5, 2019 5:42:40 PM",
      "status": "READY",
      "progressUpdateIntervalMs": 500
    }
  ],
  "name": "BigdataQ3",
  "id": "2E8X2Z4U7",
  "angularObjects": {
    "2E6QJ9ZEB:shared_process": [],
    "2E9UGZAUZ:shared_process": [],
    "2E88HWXFA:shared_process": [],
    "2E9JD6KGD:shared_process": [],
    "2E9C7V165:shared_process": [],
    "2E6NZA3BM:shared_process": [],
    "2E7J7GQU9:shared_process": [],
    "2E73K9N49:shared_process": [],
    "2E8SDNH7Y:shared_process": [],
    "2E6JNSWUS:shared_process": [],
    "2E8ZQSC8D:shared_process": [],
    "2E9SREC1U:shared_process": [],
    "2E6ZTTPRZ:shared_process": [],
    "2EA2B7XT4:shared_process": [],
    "2E7F3AJVS:shared_process": [],
    "2E9M5DZRC:shared_process": [],
    "2E8SV4ZA4:shared_process": [],
    "2E7D4EFP7:shared_process": [],
    "2E9W5D16X:shared_process": []
  },
  "config": {},
  "info": {}
}