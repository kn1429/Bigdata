{
  "paragraphs": [
    {
      "text": "sc",
      "user": "nbuser",
      "dateUpdated": "Apr 7, 2019 11:20:18 AM",
      "config": {
        "colWidth": 12.0,
        "enabled": true,
        "results": {},
        "editorSetting": {
          "language": "scala"
        },
        "editorMode": "ace/mode/scala"
      },
      "settings": {
        "params": {},
        "forms": {}
      },
      "results": {
        "code": "SUCCESS",
        "msg": [
          {
            "type": "TEXT",
            "data": "\u003cSparkContext master\u003dyarn-client appName\u003dZeppelin\u003e\n"
          }
        ]
      },
      "apps": [],
      "jobName": "paragraph_1554650414035_-1695579650",
      "id": "20190407-112014_1076144063",
      "dateCreated": "Apr 7, 2019 11:20:14 AM",
      "dateStarted": "Apr 7, 2019 11:20:18 AM",
      "dateFinished": "Apr 7, 2019 11:20:18 AM",
      "status": "FINISHED",
      "progressUpdateIntervalMs": 500
    },
    {
      "text": "read_whole_txt \u003d sc.wholeTextFiles(\"test\")",
      "user": "nbuser",
      "dateUpdated": "Apr 7, 2019 1:01:01 PM",
      "config": {
        "colWidth": 12.0,
        "enabled": true,
        "results": {},
        "editorSetting": {
          "language": "scala"
        },
        "editorMode": "ace/mode/scala"
      },
      "settings": {
        "params": {},
        "forms": {}
      },
      "results": {
        "code": "SUCCESS",
        "msg": []
      },
      "apps": [],
      "jobName": "paragraph_1554650473018_-457534310",
      "id": "20190407-112113_250642157",
      "dateCreated": "Apr 7, 2019 11:21:13 AM",
      "dateStarted": "Apr 7, 2019 1:01:01 PM",
      "dateFinished": "Apr 7, 2019 1:01:01 PM",
      "status": "FINISHED",
      "progressUpdateIntervalMs": 500
    },
    {
      "text": "files \u003d read_whole_txt.map(lambda (filename,content): filename)",
      "user": "nbuser",
      "dateUpdated": "Apr 7, 2019 1:22:41 PM",
      "config": {
        "colWidth": 12.0,
        "enabled": true,
        "results": {},
        "editorSetting": {
          "language": "scala"
        },
        "editorMode": "ace/mode/scala"
      },
      "settings": {
        "params": {},
        "forms": {}
      },
      "results": {
        "code": "SUCCESS",
        "msg": []
      },
      "apps": [],
      "jobName": "paragraph_1554656525296_-1042714438",
      "id": "20190407-130205_235915415",
      "dateCreated": "Apr 7, 2019 1:02:05 PM",
      "dateStarted": "Apr 7, 2019 1:22:41 PM",
      "dateFinished": "Apr 7, 2019 1:22:41 PM",
      "status": "FINISHED",
      "progressUpdateIntervalMs": 500
    },
    {
      "text": "def getShingles(file):\n    filecontent \u003d sc.textFile(file)\n    words \u003d filecontent.flatMap(lambda x: x.split(\".\")).map(lambda x : x.strip().split(\" \")) \\\n            .flatMap(lambda xs:str(a+\" \"+b+\" \"+c) for a,b,c in zip(xs,xs[1:],xs[2:])))\n            \n    shingles \u003d words.map(lambda x : (x,1)).reduceByKey(lambda x,y: x+y)\n    ",
      "user": "nbuser",
      "dateUpdated": "Apr 7, 2019 7:10:04 PM",
      "config": {
        "colWidth": 12.0,
        "enabled": true,
        "results": {},
        "editorSetting": {
          "language": "scala"
        },
        "editorMode": "ace/mode/scala"
      },
      "settings": {
        "params": {},
        "forms": {}
      },
      "results": {
        "code": "SUCCESS",
        "msg": []
      },
      "apps": [],
      "jobName": "paragraph_1554657771951_-99117499",
      "id": "20190407-132251_1041961576",
      "dateCreated": "Apr 7, 2019 1:22:51 PM",
      "dateStarted": "Apr 7, 2019 4:34:38 PM",
      "dateFinished": "Apr 7, 2019 4:34:38 PM",
      "status": "FINISHED",
      "progressUpdateIntervalMs": 500
    },
    {
      "text": "temp \u003d sc.wholeTextFiles(\"test/file00.txt\")",
      "user": "nbuser",
      "dateUpdated": "Apr 7, 2019 6:31:02 PM",
      "config": {
        "colWidth": 12.0,
        "enabled": true,
        "results": {},
        "editorSetting": {
          "language": "python"
        },
        "editorMode": "ace/mode/python"
      },
      "settings": {
        "params": {},
        "forms": {}
      },
      "results": {
        "code": "SUCCESS",
        "msg": []
      },
      "apps": [],
      "jobName": "paragraph_1554659279594_1147216052",
      "id": "20190407-134759_1149945920",
      "dateCreated": "Apr 7, 2019 1:47:59 PM",
      "dateStarted": "Apr 7, 2019 6:31:02 PM",
      "dateFinished": "Apr 7, 2019 6:31:02 PM",
      "status": "FINISHED",
      "progressUpdateIntervalMs": 500
    },
    {
      "text": "\nwords \u003dtemp.map(lambda (filename,content): content).flatMap(lambda x: x.split(\".\")).map(lambda x : x.strip().split(\" \")) \\\n            .flatMap(lambda xs:( str(a+\" \"+b+\" \"+c) for a,b,c in zip(xs,xs[1:],xs[2:])))\n            \nshingles \u003d words.map(lambda x : (x,1)).reduceByKey(lambda x,y: x+y)",
      "user": "nbuser",
      "dateUpdated": "Apr 7, 2019 7:07:31 PM",
      "config": {
        "colWidth": 12.0,
        "enabled": true,
        "results": {},
        "editorSetting": {
          "language": "scala"
        },
        "editorMode": "ace/mode/scala"
      },
      "settings": {
        "params": {},
        "forms": {}
      },
      "results": {
        "code": "SUCCESS",
        "msg": []
      },
      "apps": [],
      "jobName": "paragraph_1554661483551_1743839297",
      "id": "20190407-142443_92248552",
      "dateCreated": "Apr 7, 2019 2:24:43 PM",
      "dateStarted": "Apr 7, 2019 7:07:31 PM",
      "dateFinished": "Apr 7, 2019 7:07:31 PM",
      "status": "FINISHED",
      "progressUpdateIntervalMs": 500
    },
    {
      "text": "docShingledict \u003d {}\nfor filename in glob.glob(\"test/*.txt\"):\n    filecontent \u003d sc.textFile(filename)\n    words \u003d filecontent.flatMap(lambda x: x.split(\".\")).map(lambda x : x.strip().split(\" \")) \\\n            .flatMap(lambda xs:(str(a+\" \"+b+\" \"+c) for a,b,c in zip(xs,xs[1:],xs[2:])))\n            \n    shingles \u003d words.map(lambda x : (x,1)).reduceByKey(lambda x,y: x+y)\n    value \u003d shingles.collectAsMap()\n    docShingledict[filename.split(\"/\")[-1].split(\".\")[0]] \u003d value",
      "user": "nbuser",
      "dateUpdated": "Apr 7, 2019 7:21:28 PM",
      "config": {
        "colWidth": 12.0,
        "enabled": true,
        "results": {},
        "editorSetting": {
          "language": "scala"
        },
        "editorMode": "ace/mode/scala"
      },
      "settings": {
        "params": {},
        "forms": {}
      },
      "results": {
        "code": "SUCCESS",
        "msg": []
      },
      "apps": [],
      "jobName": "paragraph_1554668871063_1860892666",
      "id": "20190407-162751_1670623674",
      "dateCreated": "Apr 7, 2019 4:27:51 PM",
      "dateStarted": "Apr 7, 2019 7:21:28 PM",
      "dateFinished": "Apr 7, 2019 7:22:13 PM",
      "status": "FINISHED",
      "progressUpdateIntervalMs": 500
    },
    {
      "text": "import pickle\noutput \u003d open(\"/home/kn1429/docShingledict.pkl\",\u0027wb\u0027)\npickle.dump(docShingledict,output)\noutput.close()\n",
      "user": "nbuser",
      "dateUpdated": "Apr 7, 2019 7:28:35 PM",
      "config": {
        "colWidth": 12.0,
        "enabled": true,
        "results": {},
        "editorSetting": {
          "language": "scala"
        },
        "editorMode": "ace/mode/scala"
      },
      "settings": {
        "params": {},
        "forms": {}
      },
      "results": {
        "code": "SUCCESS",
        "msg": []
      },
      "apps": [],
      "jobName": "paragraph_1554669094252_-1986056700",
      "id": "20190407-163134_320685960",
      "dateCreated": "Apr 7, 2019 4:31:34 PM",
      "dateStarted": "Apr 7, 2019 7:28:35 PM",
      "dateFinished": "Apr 7, 2019 7:28:35 PM",
      "status": "FINISHED",
      "progressUpdateIntervalMs": 500
    },
    {
      "user": "nbuser",
      "config": {},
      "settings": {
        "params": {},
        "forms": {}
      },
      "apps": [],
      "jobName": "paragraph_1554679358539_-309412259",
      "id": "20190407-192238_952029285",
      "dateCreated": "Apr 7, 2019 7:22:38 PM",
      "status": "READY",
      "progressUpdateIntervalMs": 500
    }
  ],
  "name": "BigDataQ4Untitled Note 1",
  "id": "2EARY4FV6",
  "angularObjects": {
    "2E6QJ9ZEB:shared_process": [],
    "2E9UGZAUZ:shared_process": [],
    "2E88HWXFA:shared_process": [],
    "2E9JD6KGD:shared_process": [],
    "2E9C7V165:shared_process": [],
    "2E6NZA3BM:shared_process": [],
    "2E7J7GQU9:shared_process": [],
    "2E73K9N49:shared_process": [],
    "2E8SDNH7Y:shared_process": [],
    "2E6JNSWUS:shared_process": [],
    "2E8ZQSC8D:shared_process": [],
    "2E9SREC1U:shared_process": [],
    "2E6ZTTPRZ:shared_process": [],
    "2EA2B7XT4:shared_process": [],
    "2E7F3AJVS:shared_process": [],
    "2E9M5DZRC:shared_process": [],
    "2E8SV4ZA4:shared_process": [],
    "2E7D4EFP7:shared_process": [],
    "2E9W5D16X:shared_process": []
  },
  "config": {},
  "info": {}
}